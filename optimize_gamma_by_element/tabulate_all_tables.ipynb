{
 "cells": [
  {
   "cell_type": "code",
   "execution_count": null,
   "id": "ad128f74-36dc-449d-b001-8b0e8413e932",
   "metadata": {},
   "outputs": [],
   "source": [
    "import pandas as pd\n",
    "import numpy as np\n",
    "import matplotlib.pyplot as pp\n",
    "import os\n",
    "from functools import reduce\n",
    "import analyse_methods as am\n",
    "import importlib\n",
    "importlib.reload(am)"
   ]
  },
  {
   "cell_type": "code",
   "execution_count": null,
   "id": "ab59782f-4c93-4de9-b2fa-1a6636bba7f5",
   "metadata": {},
   "outputs": [],
   "source": [
    "elements = [\n",
    "    \"h\", \"he\", \"li\", \"be\", \"b\", \"c\", \"n\", \"o\", \"f\", \"ne\",\n",
    "    \"na\", \"mg\", \"al\", \"si\", \"p\", \"s\", \"cl\", \"ar\", \"k\", \"ca\",\n",
    "    \"sc\", \"ti\", \"v\", \"cr\", \"mn\", \"fe\", \"co\", \"ni\", \"cu\", \"zn\",\n",
    "    \"ga\", \"ge\", \"as\", \"se\", \"br\", \"kr\", \"rb\", \"sr\", \"y\", \"zr\",\n",
    "    \"nb\", \"mo\", \"tc\", \"ru\", \"rh\", \"pd\", \"ag\", \"cd\", \"in\", \"sn\",\n",
    "    \"sb\", \"te\", \"i\", \"xe\", \"cs\", \"ba\", \"la\", \"ce\", \"pr\", \"nd\",\n",
    "    \"pm\", \"sm\", \"eu\", \"gd\", \"tb\", \"dy\", \"ho\", \"er\", \"tm\", \"yb\",\n",
    "    \"lu\", \"hf\", \"ta\", \"w\", \"re\", \"os\", \"ir\", \"pt\", \"au\", \"hg\",\n",
    "    \"tl\", \"pb\", \"bi\", \"po\", \"at\", \"rn\", \"fr\", \"ra\", \"ac\", \"th\",\n",
    "    \"pa\", \"u\", \"np\", \"pu\", \"am\", \"cm\", \"bk\", \"cf\", \"es\", \"fm\",\n",
    "    \"md\", \"no\", \"lr\", \"rf\", \"db\", \"sg\", \"bh\", \"hs\", \"mt\", \"ds\",\n",
    "    \"rg\", \"cn\", \"nh\", \"fl\", \"mc\", \"lv\", \"ts\", \"og\"\n",
    "]"
   ]
  },
  {
   "cell_type": "code",
   "execution_count": null,
   "id": "3770b715-4fe4-4b69-bcb3-ca7ffb6ce0d1",
   "metadata": {},
   "outputs": [],
   "source": [
    "elements.index('he')"
   ]
  },
  {
   "cell_type": "code",
   "execution_count": null,
   "id": "97222a2b-5105-4db8-8d02-6245fbf2a013",
   "metadata": {},
   "outputs": [],
   "source": [
    "\n",
    "\n",
    "def get_table_files(basis=None, elem=None):\n",
    "    csvs = []\n",
    "    elements = {}\n",
    "    for f in os.listdir('./outputs/'):\n",
    "        if not f.endswith('.csv'): continue\n",
    "        if basis is not None:\n",
    "            if basis not in f: continue\n",
    "        if elem is not None:\n",
    "            if elem not in f: continue\n",
    "        csvs.append(f'./outputs/{f}')\n",
    "    return csvs\n",
    "\n",
    "def get_elem_name(fname):\n",
    "    return fname.split('_')[1]"
   ]
  },
  {
   "cell_type": "code",
   "execution_count": null,
   "id": "19fc00b4-61eb-496e-b59b-6bf4af2dda09",
   "metadata": {},
   "outputs": [],
   "source": [
    "files_for = {}\n",
    "bases = ['awcvtz', 'aug-cc-pvtz']\n",
    "for basis in bases:\n",
    "    tables = get_table_files(basis=basis)\n",
    "    tables = sorted(\n",
    "        tables, key=lambda fname: elements.index(get_elem_name(fname))\n",
    "    )\n",
    "    files_for[basis] = tables"
   ]
  },
  {
   "cell_type": "code",
   "execution_count": null,
   "id": "cbc7a61b-f525-425b-8c87-4361abe73bcf",
   "metadata": {},
   "outputs": [],
   "source": [
    "data_for = {}\n",
    "for basis, tables in files_for.items():\n",
    "    dfs = []\n",
    "    print(basis)\n",
    "    for table in tables:\n",
    "        df = pd.read_csv(table, skipinitialspace=True)\n",
    "        elem = get_elem_name(table)\n",
    "        dfs.append(pd.read_csv(\n",
    "            table, names=['GEM_BETA',elem], index_col=None, header=0)\n",
    "                  )\n",
    "    \n",
    "    df_merged=reduce(lambda left, right: pd.merge(\n",
    "        left, right, on='GEM_BETA'), dfs)\n",
    "    df_merged = df_merged.drop('h', axis=1)\n",
    "    #df_merged\n",
    "\n",
    "    data_for[basis] = df_merged\n",
    "\n",
    "data_for['aug-cc-pvtz']"
   ]
  },
  {
   "cell_type": "code",
   "execution_count": null,
   "id": "50c00239-f415-402a-831d-b2de72aaff26",
   "metadata": {},
   "outputs": [],
   "source": [
    "series = {}\n",
    "for basis, df_merged in data_for.items():\n",
    "    series[basis] = am.min_gamma_for_cols(df_merged)\n",
    "\n",
    "df_mins = pd.DataFrame(series)\n",
    "df_mins = df_mins.reindex(elements)\n",
    "df_mins.loc[['he', 'ne'],:]"
   ]
  },
  {
   "cell_type": "code",
   "execution_count": null,
   "id": "b824a620-6be8-4344-a7d6-5925dcf36c67",
   "metadata": {},
   "outputs": [],
   "source": [
    "df_merged.to_csv(f'gamma_vs_element_{basis}.csv')"
   ]
  },
  {
   "cell_type": "code",
   "execution_count": null,
   "id": "a9f31261-0f5f-4b13-92e8-b0882711e60b",
   "metadata": {},
   "outputs": [],
   "source": [
    "am.min_gamma_for_cols(df_merged).to_csv(f'min_gamma_vs_element_{basis}.csv')"
   ]
  },
  {
   "cell_type": "code",
   "execution_count": null,
   "id": "eb2bfcf1-62d8-46ef-8e18-042ffd22e688",
   "metadata": {},
   "outputs": [],
   "source": [
    "am.min_gamma_for_cols(df_merged)"
   ]
  },
  {
   "cell_type": "code",
   "execution_count": null,
   "id": "c38dd656-fa4e-4d44-8cb7-442b75ca122f",
   "metadata": {},
   "outputs": [],
   "source": []
  }
 ],
 "metadata": {
  "kernelspec": {
   "display_name": "Python 3 (ipykernel)",
   "language": "python",
   "name": "python3"
  },
  "language_info": {
   "codemirror_mode": {
    "name": "ipython",
    "version": 3
   },
   "file_extension": ".py",
   "mimetype": "text/x-python",
   "name": "python",
   "nbconvert_exporter": "python",
   "pygments_lexer": "ipython3",
   "version": "3.13.0"
  }
 },
 "nbformat": 4,
 "nbformat_minor": 5
}
