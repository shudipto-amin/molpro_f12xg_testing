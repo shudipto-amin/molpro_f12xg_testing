{
 "cells": [
  {
   "cell_type": "code",
   "execution_count": null,
   "id": "dc59b523-c371-419c-8437-75a83e7e2450",
   "metadata": {},
   "outputs": [],
   "source": [
    "import matplotlib.pyplot as pp\n",
    "import matplotlib as mpl\n",
    "import matplotlib.cm as cm\n",
    "import matplotlib.colors as mcolors\n",
    "import numpy as np\n",
    "import pandas as pd\n",
    "import analyse_methods as am\n",
    "from importlib import reload\n",
    "%matplotlib widget"
   ]
  },
  {
   "cell_type": "code",
   "execution_count": null,
   "id": "79c24bd7-cfc2-497d-bfcc-2cc5d7cb802f",
   "metadata": {},
   "outputs": [],
   "source": [
    "elements = [\n",
    "    \"h\", \"he\", \"li\", \"be\", \"b\", \"c\", \"n\", \"o\", \"f\", \"ne\",\n",
    "    \"na\", \"mg\", \"al\", \"si\", \"p\", \"s\", \"cl\", \"ar\", \"k\", \"ca\",\n",
    "    \"sc\", \"ti\", \"v\", \"cr\", \"mn\", \"fe\", \"co\", \"ni\", \"cu\", \"zn\",\n",
    "    \"ga\", \"ge\", \"as\", \"se\", \"br\", \"kr\", \"rb\", \"sr\", \"y\", \"zr\",\n",
    "    \"nb\", \"mo\", \"tc\", \"ru\", \"rh\", \"pd\", \"ag\", \"cd\", \"in\", \"sn\",\n",
    "    \"sb\", \"te\", \"i\", \"xe\", \"cs\", \"ba\", \"la\", \"ce\", \"pr\", \"nd\",\n",
    "    \"pm\", \"sm\", \"eu\", \"gd\", \"tb\", \"dy\", \"ho\", \"er\", \"tm\", \"yb\",\n",
    "    \"lu\", \"hf\", \"ta\", \"w\", \"re\", \"os\", \"ir\", \"pt\", \"au\", \"hg\",\n",
    "    \"tl\", \"pb\", \"bi\", \"po\", \"at\", \"rn\", \"fr\", \"ra\", \"ac\", \"th\",\n",
    "    \"pa\", \"u\", \"np\", \"pu\", \"am\", \"cm\", \"bk\", \"cf\", \"es\", \"fm\",\n",
    "    \"md\", \"no\", \"lr\", \"rf\", \"db\", \"sg\", \"bh\", \"hs\", \"mt\", \"ds\",\n",
    "    \"rg\", \"cn\", \"nh\", \"fl\", \"mc\", \"lv\", \"ts\", \"og\"\n",
    "]"
   ]
  },
  {
   "cell_type": "code",
   "execution_count": null,
   "id": "faddd21a-23b0-4503-9c61-6c6f8d3d0693",
   "metadata": {},
   "outputs": [],
   "source": [
    "blocks_dict = {\n",
    "    \"s\": [\"li\", \"be\", \"na\", \"mg\", \"k\", \"ca\",],\n",
    "    \"d\": [\"sc\", \"ti\", \"v\", \"cr\", \"mn\", \"fe\", \"co\", \"ni\", \"cu\", \"zn\",\n",
    "          ],\n",
    "    \"p\": [\"he\", \"b\", \"c\", \"n\", \"o\", \"f\", \"ne\",\n",
    "          \"al\", \"si\", \"p\", \"s\", \"cl\", \"ar\",\n",
    "          \"ga\", \"ge\", \"as\", \"se\", \"br\", \"kr\"]\n",
    "}\n",
    "\n"
   ]
  },
  {
   "cell_type": "code",
   "execution_count": null,
   "id": "a7da6eb9-23c8-460f-816d-f7a1c030df0e",
   "metadata": {},
   "outputs": [],
   "source": [
    "reload(am)\n",
    "def plot_all_elements(basis, elements, blocks_dict, save=False):\n",
    "    \n",
    "    for block, data_list in blocks_dict.items():\n",
    "        fig, ax = pp.subplots()\n",
    "        fig.suptitle(f\"{block}-block {basis}\")\n",
    "        n = len(data_list)\n",
    "        cmap = pp.get_cmap(\"viridis\")\n",
    "        norm = mcolors.Normalize(vmin=0, vmax=n-1)\n",
    "        for i, atom in enumerate(data_list):\n",
    "            #for n, basis in enumerate(bases):\n",
    "                #print(atom, basis)\n",
    "                data = am.get_evsgamma(atom, basis)\n",
    "                if data is None: continue\n",
    "                line, = ax.plot(\n",
    "                    data.GEM_BETA, data.E-min(data.E), label=basis, color=cmap(norm(i))\n",
    "                )\n",
    "                gamma_min = am.get_min(data)\n",
    "                ax.axvline(gamma_min, color=line.get_color(), linestyle='--')\n",
    "                #ax.text(gamma_min, ax.get_ylim()[0], gamma_min[0])\n",
    "        ax.set_xlabel('gamma')\n",
    "        ax.set_ylabel('energy')\n",
    "        sm = cm.ScalarMappable(cmap=cmap, norm=norm)\n",
    "        sm.set_array([])  # required\n",
    "        cbar = pp.colorbar(sm, ax=ax, ticks=range(n))\n",
    "        cbar.set_label(\"Element\")\n",
    "    \n",
    "        ax.set_ylim(0,0.1)\n",
    "        # Set the tick labels to the element symbols\n",
    "        cbar.set_ticklabels(data_list)\n",
    "\n",
    "    if save:\n",
    "        fname = f\"{block}_block_energy_vs_gamma_{basis}.svg\"\n",
    "        fig.savefig(fname)\n",
    "    return fig"
   ]
  },
  {
   "cell_type": "code",
   "execution_count": null,
   "id": "67f2ef28-eee5-4784-92cd-118b5ed1e82c",
   "metadata": {},
   "outputs": [],
   "source": [
    "bases = [\"aug-cc-pvtz\", \"awcvtz\"]\n",
    "#basis= bases[0]\n",
    "for basis in bases:\n",
    "    plot_all_elements(basis, elements, blocks_dict)"
   ]
  },
  {
   "cell_type": "code",
   "execution_count": null,
   "id": "5e964c0f-83cc-4c3c-965f-42e8ecd905b9",
   "metadata": {},
   "outputs": [],
   "source": [
    "i = 0\n",
    "for block, atoms in blocks_dict.items():\n",
    "    for at in atoms:\n",
    "        i += 1\n",
    "print(i)"
   ]
  },
  {
   "cell_type": "code",
   "execution_count": null,
   "id": "a3ee7f0b-2643-42b0-ac58-7a30f16651a1",
   "metadata": {},
   "outputs": [],
   "source": []
  }
 ],
 "metadata": {
  "kernelspec": {
   "display_name": "Python 3 (ipykernel)",
   "language": "python",
   "name": "python3"
  },
  "language_info": {
   "codemirror_mode": {
    "name": "ipython",
    "version": 3
   },
   "file_extension": ".py",
   "mimetype": "text/x-python",
   "name": "python",
   "nbconvert_exporter": "python",
   "pygments_lexer": "ipython3",
   "version": "3.13.0"
  }
 },
 "nbformat": 4,
 "nbformat_minor": 5
}
