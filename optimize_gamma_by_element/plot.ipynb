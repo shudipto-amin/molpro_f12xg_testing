{
 "cells": [
  {
   "cell_type": "code",
   "execution_count": null,
   "id": "dc59b523-c371-419c-8437-75a83e7e2450",
   "metadata": {},
   "outputs": [],
   "source": [
    "import matplotlib.pyplot as pp\n",
    "import numpy as np\n",
    "import pandas as pd\n",
    "%matplotlib widget"
   ]
  },
  {
   "cell_type": "code",
   "execution_count": null,
   "id": "79c24bd7-cfc2-497d-bfcc-2cc5d7cb802f",
   "metadata": {},
   "outputs": [],
   "source": [
    "def get_evsgamma(atom, basis, charge=0, names=None):\n",
    "    fname = f\"outputs/table_{atom}_{charge}_{basis}.csv\"\n",
    "    data = pd.read_csv(fname, names=names, skipinitialspace=True)\n",
    "    return data\n",
    "\n",
    "def get_min(data):\n",
    "    gammas = data['GEM_BETA'].values\n",
    "    gamma_min = gammas[data['E'] == data['E'].min()]\n",
    "    return gamma_min"
   ]
  },
  {
   "cell_type": "code",
   "execution_count": null,
   "id": "67f2ef28-eee5-4784-92cd-118b5ed1e82c",
   "metadata": {},
   "outputs": [],
   "source": [
    "bases = [\"cc-pvtz\", \"aug-cc-pvtz\", \"awcvtz\"]\n",
    "for atom in ('na', 'cl', 'n', 'cu'):\n",
    "    for n, basis in enumerate(bases):\n",
    "        data = get_evsgamma(atom, basis)\n",
    "        if n == 0:\n",
    "            fig, ax = pp.subplots()\n",
    "            ax.set_title(atom)\n",
    "        line, = ax.plot(data.GEM_BETA, data.E, label=basis)\n",
    "        gamma_min = get_min(data)\n",
    "        ax.axvline(gamma_min, color=line.get_color())\n",
    "        ax.text(gamma_min, ax.get_ylim()[0], gamma_min[0])\n",
    "    ax.legend()"
   ]
  },
  {
   "cell_type": "code",
   "execution_count": null,
   "id": "5e964c0f-83cc-4c3c-965f-42e8ecd905b9",
   "metadata": {},
   "outputs": [],
   "source": [
    "data['GEM_BETA']"
   ]
  }
 ],
 "metadata": {
  "kernelspec": {
   "display_name": "Python 3 (ipykernel)",
   "language": "python",
   "name": "python3"
  },
  "language_info": {
   "codemirror_mode": {
    "name": "ipython",
    "version": 3
   },
   "file_extension": ".py",
   "mimetype": "text/x-python",
   "name": "python",
   "nbconvert_exporter": "python",
   "pygments_lexer": "ipython3",
   "version": "3.13.0"
  }
 },
 "nbformat": 4,
 "nbformat_minor": 5
}
