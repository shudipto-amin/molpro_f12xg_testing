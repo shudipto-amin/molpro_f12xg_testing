{
 "cells": [
  {
   "cell_type": "code",
   "execution_count": null,
   "id": "6aa6626f-048a-4761-a642-2eeda4f059d6",
   "metadata": {},
   "outputs": [],
   "source": [
    "import xml.etree.ElementTree as ET\n",
    "import xml_output_parser as xo\n",
    "from importlib import reload"
   ]
  },
  {
   "cell_type": "markdown",
   "id": "b380d9d3-0fd3-4c35-b84c-79fac8b55fad",
   "metadata": {},
   "source": [
    "## Tests"
   ]
  },
  {
   "cell_type": "code",
   "execution_count": null,
   "id": "42dddafe-b471-44bc-95eb-12a32f46cb7f",
   "metadata": {},
   "outputs": [],
   "source": [
    "defxml = \"outputs/test_default_3-C-FIX-NOZ-.152987-20250729.xml\"\n",
    "stdxml = \"outputs/test_standard_3-C-FIX-NOZ-.152990-20250729.xml\"\n",
    "stdpass = 'test_outs/std_PASS.xml'"
   ]
  },
  {
   "cell_type": "code",
   "execution_count": null,
   "id": "e29314a9-52fa-4976-b5d6-b754d11a3b9d",
   "metadata": {},
   "outputs": [],
   "source": [
    "xo.get_xmlener(defxml)"
   ]
  },
  {
   "cell_type": "code",
   "execution_count": null,
   "id": "90e4b574-c127-4590-8830-c33360512276",
   "metadata": {},
   "outputs": [],
   "source": [
    "xo.get_xmlener(stdxml)"
   ]
  },
  {
   "cell_type": "code",
   "execution_count": null,
   "id": "e92a4dee-2611-4e29-9f4c-0117723ba398",
   "metadata": {},
   "outputs": [],
   "source": [
    "reload(xo)\n",
    "xo.get_xmlener(stdpass)"
   ]
  },
  {
   "cell_type": "markdown",
   "id": "2dfe4f49-5920-4e4e-8e5f-dcaaa853e5c3",
   "metadata": {},
   "source": [
    "# Inspecting tree\n",
    "This section is for viewing the xml tree visually and getting the important tags and attribute keys that would be used in the actual value retrieval code above."
   ]
  },
  {
   "cell_type": "code",
   "execution_count": null,
   "id": "e7a0fa64-8e88-4372-be83-adfa49a9d5e4",
   "metadata": {},
   "outputs": [],
   "source": [
    "def print_attrib(attrib):\n",
    "    for key, val in attrib.items():\n",
    "        str_to_print = f\"{key:20s}\"\n",
    "        try:\n",
    "            str_to_print += f\" {val:20.15f}\"\n",
    "        except:\n",
    "            str_to_print += f\" {val:20s}\"\n",
    "        print(str_to_print)\n",
    "        \n",
    "def iter_inspect(node, space='', tag=None, verbose=False):\n",
    "    \"\"\"\n",
    "    Visually inspect the tree, iterative through all sub-children,\n",
    "    starting with `node` as root.\n",
    "    \"\"\"\n",
    "    \n",
    "    d = 0\n",
    "    for child in node:\n",
    "        s = space + f\" {d} \"\n",
    "        if tag is None or tag == child.tag:\n",
    "            print(f\"{s} {child.tag}\")\n",
    "            if verbose:\n",
    "                print_attrib(child.attrib)\n",
    "        \n",
    "        iter_inspect(child, space=s, tag=tag, verbose=verbose)\n",
    "        d += 1"
   ]
  },
  {
   "cell_type": "code",
   "execution_count": null,
   "id": "af848189-a71d-4202-8994-268dcb6a41d0",
   "metadata": {},
   "outputs": [],
   "source": [
    "tree = xo.get_clean_tree(stdpass)\n",
    "root = tree.getroot()"
   ]
  },
  {
   "cell_type": "code",
   "execution_count": null,
   "id": "712adef6-f2a8-400c-9b5a-e177cabfce76",
   "metadata": {
    "scrolled": true
   },
   "outputs": [],
   "source": [
    "# Print all without verbose\n",
    "iter_inspect(root)"
   ]
  },
  {
   "cell_type": "code",
   "execution_count": null,
   "id": "48ea7d9f-e9e8-4056-b72b-e38e59caed71",
   "metadata": {},
   "outputs": [],
   "source": [
    "# Print jobstep w/o verbose\n",
    "iter_inspect(root, tag='jobstep')"
   ]
  },
  {
   "cell_type": "code",
   "execution_count": null,
   "id": "2804896e-4a05-48c7-bb8d-ea5757f7ab32",
   "metadata": {},
   "outputs": [],
   "source": [
    "\n",
    "# Print a jobstep w verbose\n",
    "final_job = root[0][4]\n",
    "iter_inspect(final_job, verbose=True)"
   ]
  },
  {
   "cell_type": "code",
   "execution_count": null,
   "id": "e15ec836-475e-438f-a716-46eb5715f9f6",
   "metadata": {},
   "outputs": [],
   "source": [
    "print_attrib(final_job[9])"
   ]
  },
  {
   "cell_type": "code",
   "execution_count": null,
   "id": "e86a764e-e09d-4961-8d4c-d4d945706e55",
   "metadata": {},
   "outputs": [],
   "source": [
    "final_job[9].items()"
   ]
  },
  {
   "cell_type": "code",
   "execution_count": null,
   "id": "64d7c2b6-97ad-411b-a00a-b10faf22e287",
   "metadata": {},
   "outputs": [],
   "source": [
    "\n",
    "mp2f12_elems = root.findall(\".//property/[@method='MP2-F12/3C(F)']\")\n",
    "iter_inspect(mp2f12_elems, verbose=True)\n",
    "\n"
   ]
  },
  {
   "cell_type": "code",
   "execution_count": null,
   "id": "0ce979a6-6c21-42a2-bfde-6a382f6bdffa",
   "metadata": {},
   "outputs": [],
   "source": []
  }
 ],
 "metadata": {
  "kernelspec": {
   "display_name": "Python 3 (ipykernel)",
   "language": "python",
   "name": "python3"
  },
  "language_info": {
   "codemirror_mode": {
    "name": "ipython",
    "version": 3
   },
   "file_extension": ".py",
   "mimetype": "text/x-python",
   "name": "python",
   "nbconvert_exporter": "python",
   "pygments_lexer": "ipython3",
   "version": "3.13.0"
  }
 },
 "nbformat": 4,
 "nbformat_minor": 5
}
