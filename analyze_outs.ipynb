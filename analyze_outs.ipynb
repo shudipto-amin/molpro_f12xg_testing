{
 "cells": [
  {
   "cell_type": "code",
   "execution_count": null,
   "id": "6aa6626f-048a-4761-a642-2eeda4f059d6",
   "metadata": {},
   "outputs": [],
   "source": [
    "import xml.etree.ElementTree as ET"
   ]
  },
  {
   "cell_type": "code",
   "execution_count": null,
   "id": "42dddafe-b471-44bc-95eb-12a32f46cb7f",
   "metadata": {},
   "outputs": [],
   "source": [
    "defxml = \"outputs/test_default_3-C-FIX-NOZ-.152987-20250729.xml\"\n",
    "stdxml = \"outputs/test_standard_3-C-FIX-NOZ-.152990-20250729.xml\""
   ]
  },
  {
   "cell_type": "code",
   "execution_count": null,
   "id": "3d5f7975-4016-4db0-b47e-c2bf3d0d5e2d",
   "metadata": {},
   "outputs": [],
   "source": [
    "def get_clean_tree(xmlfile):\n",
    "    tree = ET.parse(xmlfile)\n",
    "    for elem in tree.iter():\n",
    "        elem.tag = elem.tag.split(\"}\")[1]\n",
    "    return tree\n",
    "\n",
    "tree = get_clean_tree(defxml)\n",
    "\n",
    "def print_attrib(attrib):\n",
    "    for key, val in attrib.items():\n",
    "        str_to_print = f\"{key:20s}\"\n",
    "        try:\n",
    "            str_to_print += f\" {val:20.15f}\"\n",
    "        except:\n",
    "            str_to_print += f\" {val:20s}\"\n",
    "        print(str_to_print)\n",
    "        \n",
    "def iter_inspect(node, space='', tag=None, verbose=False):\n",
    "    \"\"\"\n",
    "    Visually inspect the tree, iterative through all sub-children,\n",
    "    starting with `node` as root.\n",
    "    \"\"\"\n",
    "    \n",
    "    d = 0\n",
    "    for child in node:\n",
    "        s = space + f\" {d} \"\n",
    "        if tag is None or tag == child.tag:\n",
    "            print(f\"{s} {child.tag}\")\n",
    "            if verbose:\n",
    "                print_attrib(child.attrib)\n",
    "        \n",
    "        iter_inspect(child, space=s, tag=tag, verbose=verbose)\n",
    "        d += 1\n"
   ]
  },
  {
   "cell_type": "markdown",
   "id": "b380d9d3-0fd3-4c35-b84c-79fac8b55fad",
   "metadata": {},
   "source": [
    "## Tests"
   ]
  },
  {
   "cell_type": "code",
   "execution_count": null,
   "id": "fb981c9c-bf0d-45d2-8968-8dc586730ba9",
   "metadata": {},
   "outputs": [],
   "source": [
    "tree = get_clean_tree(defxml)\n",
    "root = tree.getroot()"
   ]
  },
  {
   "cell_type": "code",
   "execution_count": null,
   "id": "712adef6-f2a8-400c-9b5a-e177cabfce76",
   "metadata": {
    "scrolled": true
   },
   "outputs": [],
   "source": [
    "# Print all without verbose\n",
    "iter_inspect(root)"
   ]
  },
  {
   "cell_type": "code",
   "execution_count": null,
   "id": "48ea7d9f-e9e8-4056-b72b-e38e59caed71",
   "metadata": {},
   "outputs": [],
   "source": [
    "# Print a jobstep w/o verbose\n",
    "iter_inspect(root, tag='jobstep')"
   ]
  },
  {
   "cell_type": "code",
   "execution_count": null,
   "id": "2804896e-4a05-48c7-bb8d-ea5757f7ab32",
   "metadata": {},
   "outputs": [],
   "source": []
  }
 ],
 "metadata": {
  "kernelspec": {
   "display_name": "Python 3 (ipykernel)",
   "language": "python",
   "name": "python3"
  },
  "language_info": {
   "codemirror_mode": {
    "name": "ipython",
    "version": 3
   },
   "file_extension": ".py",
   "mimetype": "text/x-python",
   "name": "python",
   "nbconvert_exporter": "python",
   "pygments_lexer": "ipython3",
   "version": "3.13.0"
  }
 },
 "nbformat": 4,
 "nbformat_minor": 5
}
